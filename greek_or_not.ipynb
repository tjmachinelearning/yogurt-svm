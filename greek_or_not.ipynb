{
 "cells": [
  {
   "cell_type": "markdown",
   "metadata": {},
   "source": [
    "# Greek Or Not?\n",
    "Can we use the nutrition facts on a yogurt cup to determine if it's Greek yogurt? In doing so, what can we learn about the health benefits of Greek yogurt vs. regular yogurt?\n",
    "\n",
    "Author: [Kevin Fu](https://github.com/kfu02)\n",
    "\n",
    "Inspired by: [https://github.com/adashofdata/muffin-cupcake](https://github.com/adashofdata/muffin-cupcake)\n",
    "\n",
    "Created for [TJML Club](https://tjmachinelearning.com/) 2019-2020"
   ]
  },
  {
   "cell_type": "code",
   "execution_count": 1,
   "metadata": {},
   "outputs": [],
   "source": [
    "#core data science packages\n",
    "import pandas as pd\n",
    "import numpy as np\n",
    "\n",
    "#SVM models\n",
    "from sklearn import svm\n",
    "#accuracy scoring\n",
    "from sklearn.metrics import accuracy_score\n",
    "\n",
    "#graphing\n",
    "import matplotlib.pyplot as plt\n",
    "import seaborn as sns; sns.set(font_scale=1.2)\n",
    "%matplotlib inline"
   ]
  },
  {
   "cell_type": "markdown",
   "metadata": {},
   "source": [
    "### Read in data\n",
    "We read in the csv file with nutrition facts and turn it into a pandas dataframe.\n",
    "\n",
    "Data compiled from a list of [most consumed brands of yogurt](https://www.statista.com/statistics/279763/us-households-most-consumed-brands-of-yogurt-or-smoothies-within-30-days/) in the US. Each brand's row is based on their vanilla yogurt's nutrition facts. All values are in grams except cholesterol and sodium, which are in milligrams."
   ]
  },
  {
   "cell_type": "code",
   "execution_count": 2,
   "metadata": {},
   "outputs": [
    {
     "data": {
      "text/html": [
       "<div>\n",
       "<style scoped>\n",
       "    .dataframe tbody tr th:only-of-type {\n",
       "        vertical-align: middle;\n",
       "    }\n",
       "\n",
       "    .dataframe tbody tr th {\n",
       "        vertical-align: top;\n",
       "    }\n",
       "\n",
       "    .dataframe thead th {\n",
       "        text-align: right;\n",
       "    }\n",
       "</style>\n",
       "<table border=\"1\" class=\"dataframe\">\n",
       "  <thead>\n",
       "    <tr style=\"text-align: right;\">\n",
       "      <th></th>\n",
       "      <th>serving_size</th>\n",
       "      <th>calories</th>\n",
       "      <th>fat</th>\n",
       "      <th>sat_fat</th>\n",
       "      <th>cholesterol</th>\n",
       "      <th>sodium</th>\n",
       "      <th>carbs</th>\n",
       "      <th>sugars</th>\n",
       "      <th>protein</th>\n",
       "      <th>greek_or_not</th>\n",
       "    </tr>\n",
       "    <tr>\n",
       "      <th>brand_name</th>\n",
       "      <th></th>\n",
       "      <th></th>\n",
       "      <th></th>\n",
       "      <th></th>\n",
       "      <th></th>\n",
       "      <th></th>\n",
       "      <th></th>\n",
       "      <th></th>\n",
       "      <th></th>\n",
       "      <th></th>\n",
       "    </tr>\n",
       "  </thead>\n",
       "  <tbody>\n",
       "    <tr>\n",
       "      <th>Chobani</th>\n",
       "      <td>150</td>\n",
       "      <td>110</td>\n",
       "      <td>0.0</td>\n",
       "      <td>0</td>\n",
       "      <td>5.0</td>\n",
       "      <td>60</td>\n",
       "      <td>15</td>\n",
       "      <td>13</td>\n",
       "      <td>12</td>\n",
       "      <td>greek</td>\n",
       "    </tr>\n",
       "    <tr>\n",
       "      <th>Dannon</th>\n",
       "      <td>150</td>\n",
       "      <td>140</td>\n",
       "      <td>4.5</td>\n",
       "      <td>3</td>\n",
       "      <td>15.0</td>\n",
       "      <td>70</td>\n",
       "      <td>20</td>\n",
       "      <td>15</td>\n",
       "      <td>5</td>\n",
       "      <td>not</td>\n",
       "    </tr>\n",
       "    <tr>\n",
       "      <th>Yoplait</th>\n",
       "      <td>150</td>\n",
       "      <td>150</td>\n",
       "      <td>2.0</td>\n",
       "      <td>1</td>\n",
       "      <td>10.0</td>\n",
       "      <td>105</td>\n",
       "      <td>26</td>\n",
       "      <td>19</td>\n",
       "      <td>6</td>\n",
       "      <td>not</td>\n",
       "    </tr>\n",
       "    <tr>\n",
       "      <th>Yoplait_Greek</th>\n",
       "      <td>150</td>\n",
       "      <td>100</td>\n",
       "      <td>0.0</td>\n",
       "      <td>0</td>\n",
       "      <td>2.5</td>\n",
       "      <td>60</td>\n",
       "      <td>10</td>\n",
       "      <td>7</td>\n",
       "      <td>15</td>\n",
       "      <td>greek</td>\n",
       "    </tr>\n",
       "    <tr>\n",
       "      <th>Dannon_Oikos</th>\n",
       "      <td>150</td>\n",
       "      <td>110</td>\n",
       "      <td>0.0</td>\n",
       "      <td>0</td>\n",
       "      <td>10.0</td>\n",
       "      <td>45</td>\n",
       "      <td>16</td>\n",
       "      <td>15</td>\n",
       "      <td>12</td>\n",
       "      <td>greek</td>\n",
       "    </tr>\n",
       "    <tr>\n",
       "      <th>La_Yogurt</th>\n",
       "      <td>170</td>\n",
       "      <td>160</td>\n",
       "      <td>5.0</td>\n",
       "      <td>3</td>\n",
       "      <td>20.0</td>\n",
       "      <td>80</td>\n",
       "      <td>23</td>\n",
       "      <td>19</td>\n",
       "      <td>6</td>\n",
       "      <td>not</td>\n",
       "    </tr>\n",
       "    <tr>\n",
       "      <th>Fage</th>\n",
       "      <td>227</td>\n",
       "      <td>190</td>\n",
       "      <td>0.0</td>\n",
       "      <td>0</td>\n",
       "      <td>0.0</td>\n",
       "      <td>70</td>\n",
       "      <td>27</td>\n",
       "      <td>25</td>\n",
       "      <td>20</td>\n",
       "      <td>greek</td>\n",
       "    </tr>\n",
       "    <tr>\n",
       "      <th>Lala</th>\n",
       "      <td>170</td>\n",
       "      <td>150</td>\n",
       "      <td>1.5</td>\n",
       "      <td>1</td>\n",
       "      <td>10.0</td>\n",
       "      <td>95</td>\n",
       "      <td>29</td>\n",
       "      <td>24</td>\n",
       "      <td>6</td>\n",
       "      <td>not</td>\n",
       "    </tr>\n",
       "    <tr>\n",
       "      <th>Stonyfield</th>\n",
       "      <td>227</td>\n",
       "      <td>200</td>\n",
       "      <td>8.0</td>\n",
       "      <td>5</td>\n",
       "      <td>25.0</td>\n",
       "      <td>110</td>\n",
       "      <td>26</td>\n",
       "      <td>22</td>\n",
       "      <td>7</td>\n",
       "      <td>not</td>\n",
       "    </tr>\n",
       "    <tr>\n",
       "      <th>Voskos</th>\n",
       "      <td>150</td>\n",
       "      <td>130</td>\n",
       "      <td>0.0</td>\n",
       "      <td>0</td>\n",
       "      <td>0.0</td>\n",
       "      <td>45</td>\n",
       "      <td>21</td>\n",
       "      <td>16</td>\n",
       "      <td>11</td>\n",
       "      <td>greek</td>\n",
       "    </tr>\n",
       "  </tbody>\n",
       "</table>\n",
       "</div>"
      ],
      "text/plain": [
       "               serving_size  calories  fat  sat_fat  cholesterol  sodium  \\\n",
       "brand_name                                                                 \n",
       "Chobani                 150       110  0.0        0          5.0      60   \n",
       "Dannon                  150       140  4.5        3         15.0      70   \n",
       "Yoplait                 150       150  2.0        1         10.0     105   \n",
       "Yoplait_Greek           150       100  0.0        0          2.5      60   \n",
       "Dannon_Oikos            150       110  0.0        0         10.0      45   \n",
       "La_Yogurt               170       160  5.0        3         20.0      80   \n",
       "Fage                    227       190  0.0        0          0.0      70   \n",
       "Lala                    170       150  1.5        1         10.0      95   \n",
       "Stonyfield              227       200  8.0        5         25.0     110   \n",
       "Voskos                  150       130  0.0        0          0.0      45   \n",
       "\n",
       "               carbs  sugars  protein greek_or_not  \n",
       "brand_name                                          \n",
       "Chobani           15      13       12        greek  \n",
       "Dannon            20      15        5          not  \n",
       "Yoplait           26      19        6          not  \n",
       "Yoplait_Greek     10       7       15        greek  \n",
       "Dannon_Oikos      16      15       12        greek  \n",
       "La_Yogurt         23      19        6          not  \n",
       "Fage              27      25       20        greek  \n",
       "Lala              29      24        6          not  \n",
       "Stonyfield        26      22        7          not  \n",
       "Voskos            21      16       11        greek  "
      ]
     },
     "execution_count": 2,
     "metadata": {},
     "output_type": "execute_result"
    }
   ],
   "source": [
    "nutr_facts = pd.read_csv('yogurt_nutrition_facts.csv', index_col=0)\n",
    "nutr_facts"
   ]
  },
  {
   "cell_type": "markdown",
   "metadata": {},
   "source": [
    "### Normalize data\n",
    "The serving sizes for each brand are different; here, we normalize all nutrition facts to 150 g servings."
   ]
  },
  {
   "cell_type": "code",
   "execution_count": 3,
   "metadata": {},
   "outputs": [
    {
     "data": {
      "text/html": [
       "<div>\n",
       "<style scoped>\n",
       "    .dataframe tbody tr th:only-of-type {\n",
       "        vertical-align: middle;\n",
       "    }\n",
       "\n",
       "    .dataframe tbody tr th {\n",
       "        vertical-align: top;\n",
       "    }\n",
       "\n",
       "    .dataframe thead th {\n",
       "        text-align: right;\n",
       "    }\n",
       "</style>\n",
       "<table border=\"1\" class=\"dataframe\">\n",
       "  <thead>\n",
       "    <tr style=\"text-align: right;\">\n",
       "      <th></th>\n",
       "      <th>serving_size</th>\n",
       "      <th>calories</th>\n",
       "      <th>fat</th>\n",
       "      <th>sat_fat</th>\n",
       "      <th>cholesterol</th>\n",
       "      <th>sodium</th>\n",
       "      <th>carbs</th>\n",
       "      <th>sugars</th>\n",
       "      <th>protein</th>\n",
       "      <th>greek_or_not</th>\n",
       "    </tr>\n",
       "    <tr>\n",
       "      <th>brand_name</th>\n",
       "      <th></th>\n",
       "      <th></th>\n",
       "      <th></th>\n",
       "      <th></th>\n",
       "      <th></th>\n",
       "      <th></th>\n",
       "      <th></th>\n",
       "      <th></th>\n",
       "      <th></th>\n",
       "      <th></th>\n",
       "    </tr>\n",
       "  </thead>\n",
       "  <tbody>\n",
       "    <tr>\n",
       "      <th>Chobani</th>\n",
       "      <td>150.0</td>\n",
       "      <td>110.000000</td>\n",
       "      <td>0.000000</td>\n",
       "      <td>0.000000</td>\n",
       "      <td>5.000000</td>\n",
       "      <td>60.000000</td>\n",
       "      <td>15.000000</td>\n",
       "      <td>13.000000</td>\n",
       "      <td>12.000000</td>\n",
       "      <td>greek</td>\n",
       "    </tr>\n",
       "    <tr>\n",
       "      <th>Dannon</th>\n",
       "      <td>150.0</td>\n",
       "      <td>140.000000</td>\n",
       "      <td>4.500000</td>\n",
       "      <td>3.000000</td>\n",
       "      <td>15.000000</td>\n",
       "      <td>70.000000</td>\n",
       "      <td>20.000000</td>\n",
       "      <td>15.000000</td>\n",
       "      <td>5.000000</td>\n",
       "      <td>not</td>\n",
       "    </tr>\n",
       "    <tr>\n",
       "      <th>Yoplait</th>\n",
       "      <td>150.0</td>\n",
       "      <td>150.000000</td>\n",
       "      <td>2.000000</td>\n",
       "      <td>1.000000</td>\n",
       "      <td>10.000000</td>\n",
       "      <td>105.000000</td>\n",
       "      <td>26.000000</td>\n",
       "      <td>19.000000</td>\n",
       "      <td>6.000000</td>\n",
       "      <td>not</td>\n",
       "    </tr>\n",
       "    <tr>\n",
       "      <th>Yoplait_Greek</th>\n",
       "      <td>150.0</td>\n",
       "      <td>100.000000</td>\n",
       "      <td>0.000000</td>\n",
       "      <td>0.000000</td>\n",
       "      <td>2.500000</td>\n",
       "      <td>60.000000</td>\n",
       "      <td>10.000000</td>\n",
       "      <td>7.000000</td>\n",
       "      <td>15.000000</td>\n",
       "      <td>greek</td>\n",
       "    </tr>\n",
       "    <tr>\n",
       "      <th>Dannon_Oikos</th>\n",
       "      <td>150.0</td>\n",
       "      <td>110.000000</td>\n",
       "      <td>0.000000</td>\n",
       "      <td>0.000000</td>\n",
       "      <td>10.000000</td>\n",
       "      <td>45.000000</td>\n",
       "      <td>16.000000</td>\n",
       "      <td>15.000000</td>\n",
       "      <td>12.000000</td>\n",
       "      <td>greek</td>\n",
       "    </tr>\n",
       "    <tr>\n",
       "      <th>La_Yogurt</th>\n",
       "      <td>150.0</td>\n",
       "      <td>141.176471</td>\n",
       "      <td>4.411765</td>\n",
       "      <td>2.647059</td>\n",
       "      <td>17.647059</td>\n",
       "      <td>70.588235</td>\n",
       "      <td>20.294118</td>\n",
       "      <td>16.764706</td>\n",
       "      <td>5.294118</td>\n",
       "      <td>not</td>\n",
       "    </tr>\n",
       "    <tr>\n",
       "      <th>Fage</th>\n",
       "      <td>150.0</td>\n",
       "      <td>125.550661</td>\n",
       "      <td>0.000000</td>\n",
       "      <td>0.000000</td>\n",
       "      <td>0.000000</td>\n",
       "      <td>46.255507</td>\n",
       "      <td>17.841410</td>\n",
       "      <td>16.519824</td>\n",
       "      <td>13.215859</td>\n",
       "      <td>greek</td>\n",
       "    </tr>\n",
       "    <tr>\n",
       "      <th>Lala</th>\n",
       "      <td>150.0</td>\n",
       "      <td>132.352941</td>\n",
       "      <td>1.323529</td>\n",
       "      <td>0.882353</td>\n",
       "      <td>8.823529</td>\n",
       "      <td>83.823529</td>\n",
       "      <td>25.588235</td>\n",
       "      <td>21.176471</td>\n",
       "      <td>5.294118</td>\n",
       "      <td>not</td>\n",
       "    </tr>\n",
       "    <tr>\n",
       "      <th>Stonyfield</th>\n",
       "      <td>150.0</td>\n",
       "      <td>132.158590</td>\n",
       "      <td>5.286344</td>\n",
       "      <td>3.303965</td>\n",
       "      <td>16.519824</td>\n",
       "      <td>72.687225</td>\n",
       "      <td>17.180617</td>\n",
       "      <td>14.537445</td>\n",
       "      <td>4.625551</td>\n",
       "      <td>not</td>\n",
       "    </tr>\n",
       "    <tr>\n",
       "      <th>Voskos</th>\n",
       "      <td>150.0</td>\n",
       "      <td>130.000000</td>\n",
       "      <td>0.000000</td>\n",
       "      <td>0.000000</td>\n",
       "      <td>0.000000</td>\n",
       "      <td>45.000000</td>\n",
       "      <td>21.000000</td>\n",
       "      <td>16.000000</td>\n",
       "      <td>11.000000</td>\n",
       "      <td>greek</td>\n",
       "    </tr>\n",
       "  </tbody>\n",
       "</table>\n",
       "</div>"
      ],
      "text/plain": [
       "               serving_size    calories       fat   sat_fat  cholesterol  \\\n",
       "brand_name                                                                 \n",
       "Chobani               150.0  110.000000  0.000000  0.000000     5.000000   \n",
       "Dannon                150.0  140.000000  4.500000  3.000000    15.000000   \n",
       "Yoplait               150.0  150.000000  2.000000  1.000000    10.000000   \n",
       "Yoplait_Greek         150.0  100.000000  0.000000  0.000000     2.500000   \n",
       "Dannon_Oikos          150.0  110.000000  0.000000  0.000000    10.000000   \n",
       "La_Yogurt             150.0  141.176471  4.411765  2.647059    17.647059   \n",
       "Fage                  150.0  125.550661  0.000000  0.000000     0.000000   \n",
       "Lala                  150.0  132.352941  1.323529  0.882353     8.823529   \n",
       "Stonyfield            150.0  132.158590  5.286344  3.303965    16.519824   \n",
       "Voskos                150.0  130.000000  0.000000  0.000000     0.000000   \n",
       "\n",
       "                   sodium      carbs     sugars    protein greek_or_not  \n",
       "brand_name                                                               \n",
       "Chobani         60.000000  15.000000  13.000000  12.000000        greek  \n",
       "Dannon          70.000000  20.000000  15.000000   5.000000          not  \n",
       "Yoplait        105.000000  26.000000  19.000000   6.000000          not  \n",
       "Yoplait_Greek   60.000000  10.000000   7.000000  15.000000        greek  \n",
       "Dannon_Oikos    45.000000  16.000000  15.000000  12.000000        greek  \n",
       "La_Yogurt       70.588235  20.294118  16.764706   5.294118          not  \n",
       "Fage            46.255507  17.841410  16.519824  13.215859        greek  \n",
       "Lala            83.823529  25.588235  21.176471   5.294118          not  \n",
       "Stonyfield      72.687225  17.180617  14.537445   4.625551          not  \n",
       "Voskos          45.000000  21.000000  16.000000  11.000000        greek  "
      ]
     },
     "execution_count": 3,
     "metadata": {},
     "output_type": "execute_result"
    }
   ],
   "source": [
    "#remove last col\n",
    "df = nutr_facts.drop(['greek_or_not'], axis=1) \n",
    "\n",
    "#divide all nums by grams of serving size\n",
    "std_sz = 150\n",
    "for r in range(len(df)): \n",
    "    row = df.iloc[r]\n",
    "    sz = row['serving_size']\n",
    "    df.iloc[r] = row.div(sz).mul(std_sz)\n",
    "\n",
    "#add back dropped col\n",
    "nutr_facts = pd.concat([df, nutr_facts['greek_or_not']], axis=1)\n",
    "nutr_facts"
   ]
  },
  {
   "cell_type": "markdown",
   "metadata": {},
   "source": [
    "### Pick features to train SVM\n",
    "For this example, we'll be picking two features to train our SVM with since that's easy to visualize. In reality we could easily throw all of our features to scikit's SVM model.\n",
    "\n",
    "Modify ```f1``` and ```f2``` (feature 1 and feature 2) to see different relationships. Anything with fat or saturated fat as one of the features will be too obvious, since Greek yogurt tends to have 0 fat. Good pairs to try: *cholesterol v calores, cholesterol v sugars,* and *calories v sugars.*"
   ]
  },
  {
   "cell_type": "code",
   "execution_count": 4,
   "metadata": {},
   "outputs": [
    {
     "data": {
      "image/png": "[encoded data removed]",
      "text/plain": [
       "<Figure size 442.435x360 with 1 Axes>"
      ]
     },
     "metadata": {
      "needs_background": "light"
     },
     "output_type": "display_data"
    }
   ],
   "source": [
    "#change these variables\n",
    "f1 = 'cholesterol'\n",
    "f2 = 'calories'\n",
    "\n",
    "sns.lmplot(x=f1, y=f2, data=nutr_facts, hue='greek_or_not',\n",
    "           palette='Set1', fit_reg=False, scatter_kws={\"s\": 70});"
   ]
  },
  {
   "cell_type": "markdown",
   "metadata": {},
   "source": [
    "### Construct model\n",
    "We extract the input data for our SVM from the selected features. The output data is converted from strings to numbers: ```{'greek':1, 'not':0}```"
   ]
  },
  {
   "cell_type": "code",
   "execution_count": 5,
   "metadata": {},
   "outputs": [
    {
     "data": {
      "text/plain": [
       "SVC(C=1.0, cache_size=200, class_weight=None, coef0=0.0,\n",
       "  decision_function_shape='ovr', degree=3, gamma='auto_deprecated',\n",
       "  kernel='linear', max_iter=-1, probability=False, random_state=None,\n",
       "  shrinking=True, tol=0.001, verbose=False)"
      ]
     },
     "execution_count": 5,
     "metadata": {},
     "output_type": "execute_result"
    }
   ],
   "source": [
    "#define input feats\n",
    "input_features = nutr_facts[[f1, f2]].values\n",
    "classes = np.where(nutr_facts['greek_or_not']=='not',0,1)\n",
    "\n",
    "#fit SVM model\n",
    "model = svm.SVC(kernel='linear')\n",
    "model.fit(input_features, classes)"
   ]
  },
  {
   "cell_type": "markdown",
   "metadata": {},
   "source": [
    "### Visualize the SVM\n",
    "This section heavily borrows from [this jupyter notebook](https://github.com/adashofdata/muffin-cupcake/blob/master/muffin_vs_cupcake_demo.ipynb). We're just taking the boundary hyperplane from the SVM trained and displaying it with its margins to the support vectors."
   ]
  },
  {
   "cell_type": "code",
   "execution_count": 6,
   "metadata": {},
   "outputs": [
    {
     "data": {
      "image/png": "[encoded data removed]",
      "text/plain": [
       "<Figure size 442.435x360 with 1 Axes>"
      ]
     },
     "metadata": {
      "needs_background": "light"
     },
     "output_type": "display_data"
    }
   ],
   "source": [
    "# Get the separating hyperplane\n",
    "w = model.coef_[0]\n",
    "a = -w[0] / w[1]\n",
    "#fit to min/max values on x-axis\n",
    "xx = np.linspace(np.amin(input_features[:,0]), np.amax(input_features[:,0]))\n",
    "yy = a * xx - (model.intercept_[0]) / w[1]\n",
    "\n",
    "# Plot the parallels to the separating hyperplane that pass through the support vectors\n",
    "b = model.support_vectors_[0]\n",
    "yy_down = a * xx + (b[1] - a * b[0])\n",
    "b = model.support_vectors_[-1]\n",
    "yy_up = a * xx + (b[1] - a * b[0])\n",
    "\n",
    "# Look at the margins and support vectors\n",
    "sns.lmplot(x=f1, y=f2, data=nutr_facts, hue='greek_or_not',\n",
    "           palette='Set1', fit_reg=False, scatter_kws={\"s\": 70});plt.plot(xx, yy, linewidth=2, color='black')\n",
    "plt.plot(xx, yy_down, 'k--')\n",
    "plt.plot(xx, yy_up, 'k--')\n",
    "plt.scatter(model.support_vectors_[:, 0], model.support_vectors_[:, 1],\n",
    "            s=80, facecolors='none');"
   ]
  },
  {
   "cell_type": "markdown",
   "metadata": {},
   "source": [
    "### Predict with the SVM\n",
    "Finally, we can use the model to predict whether other cups with a given nutrition label are greek or not."
   ]
  },
  {
   "cell_type": "code",
   "execution_count": 7,
   "metadata": {},
   "outputs": [
    {
     "data": {
      "image/png": "[encoded data removed]",
      "text/plain": [
       "<Figure size 442.435x360 with 1 Axes>"
      ]
     },
     "metadata": {
      "needs_background": "light"
     },
     "output_type": "display_data"
    }
   ],
   "source": [
    "#create new fake yogurt nutrition facts\n",
    "yoplay = [150, 100, 2.0, 1, 10.0, 105, 26, 19, 6]\n",
    "feats = list(nutr_facts.keys())\n",
    "yoplay_x, yoplay_y = yoplay[feats.index(f1)], yoplay[feats.index(f2)]\n",
    "\n",
    "#visualize new plot\n",
    "sns.lmplot(x=f1, y=f2, data=nutr_facts, hue='greek_or_not',\n",
    "           palette='Set1', fit_reg=False, scatter_kws={\"s\": 70});plt.plot(xx, yy, linewidth=2, color='black')\n",
    "plt.plot(xx, yy_down, 'k--')\n",
    "plt.plot(xx, yy_up, 'k--')\n",
    "plt.scatter(model.support_vectors_[:, 0], model.support_vectors_[:, 1],\n",
    "            s=80, facecolors='none');\n",
    "plt.plot(yoplay_x, yoplay_y, 'yo', markersize='9');"
   ]
  },
  {
   "cell_type": "code",
   "execution_count": 8,
   "metadata": {},
   "outputs": [
    {
     "data": {
      "text/plain": [
       "'greek'"
      ]
     },
     "execution_count": 8,
     "metadata": {},
     "output_type": "execute_result"
    }
   ],
   "source": [
    "#final answer\n",
    "answer = \"not\" if model.predict([[yoplay_x, yoplay_y]]) == 0 else \"greek\"\n",
    "answer"
   ]
  },
  {
   "cell_type": "markdown",
   "metadata": {},
   "source": [
    "## The edge case\n",
    "\n",
    "We've made a basic, two-feature, two-class SVM. However, if we picked the feature pair *sugars v carbs*, this simple model would fail. "
   ]
  },
  {
   "cell_type": "code",
   "execution_count": 9,
   "metadata": {},
   "outputs": [
    {
     "data": {
      "image/png": "[encoded data removed]",
      "text/plain": [
       "<Figure size 442.435x360 with 1 Axes>"
      ]
     },
     "metadata": {
      "needs_background": "light"
     },
     "output_type": "display_data"
    }
   ],
   "source": [
    "f1 = 'sugars'\n",
    "f2 = 'carbs'\n",
    "\n",
    "sns.lmplot(x=f1, y=f2, data=nutr_facts, hue='greek_or_not',\n",
    "           palette='Set1', fit_reg=False, scatter_kws={\"s\": 70});"
   ]
  },
  {
   "cell_type": "code",
   "execution_count": 10,
   "metadata": {},
   "outputs": [
    {
     "data": {
      "image/png": "[encoded data removed]",
      "text/plain": [
       "<Figure size 442.435x360 with 1 Axes>"
      ]
     },
     "metadata": {
      "needs_background": "light"
     },
     "output_type": "display_data"
    }
   ],
   "source": [
    "#define input feats\n",
    "input_features = nutr_facts[[f1, f2]].values\n",
    "classes = np.where(nutr_facts['greek_or_not']=='not',0,1)\n",
    "\n",
    "#fit SVM model\n",
    "model = svm.SVC(kernel='linear')\n",
    "model.fit(input_features, classes)\n",
    "\n",
    "# Get the separating hyperplane\n",
    "w = model.coef_[0]\n",
    "a = -w[0] / w[1]\n",
    "#fit to min/max values on x-axis\n",
    "xx = np.linspace(np.amin(input_features[:,0]), np.amax(input_features[:,0]))\n",
    "yy = a * xx - (model.intercept_[0]) / w[1]\n",
    "\n",
    "# Plot the parallels to the separating hyperplane that pass through the support vectors\n",
    "b = model.support_vectors_[0]\n",
    "yy_down = a * xx + (b[1] - a * b[0])\n",
    "b = model.support_vectors_[-1]\n",
    "yy_up = a * xx + (b[1] - a * b[0])\n",
    "\n",
    "# Look at the margins and support vectors\n",
    "sns.lmplot(x=f1, y=f2, data=nutr_facts, hue='greek_or_not',\n",
    "           palette='Set1', fit_reg=False, scatter_kws={\"s\": 70});plt.plot(xx, yy, linewidth=2, color='black')\n",
    "plt.plot(xx, yy_down, 'k--')\n",
    "plt.plot(xx, yy_up, 'k--')\n",
    "plt.scatter(model.support_vectors_[:, 0], model.support_vectors_[:, 1],\n",
    "            s=80, facecolors='none');"
   ]
  },
  {
   "cell_type": "code",
   "execution_count": 11,
   "metadata": {},
   "outputs": [
    {
     "data": {
      "text/plain": [
       "0.8"
      ]
     },
     "execution_count": 11,
     "metadata": {},
     "output_type": "execute_result"
    }
   ],
   "source": [
    "prev_pred = model.predict(input_features)\n",
    "accuracy_score(classes, prev_pred)"
   ]
  },
  {
   "cell_type": "markdown",
   "metadata": {},
   "source": [
    "To address this, we can try the slack parameter C, which controls how much to penalize the model for each misclassified point."
   ]
  },
  {
   "cell_type": "code",
   "execution_count": 12,
   "metadata": {},
   "outputs": [
    {
     "data": {
      "image/png": "[encoded data removed]",
      "text/plain": [
       "<Figure size 442.435x360 with 1 Axes>"
      ]
     },
     "metadata": {
      "needs_background": "light"
     },
     "output_type": "display_data"
    }
   ],
   "source": [
    "#define input feats\n",
    "input_features = nutr_facts[[f1, f2]].values\n",
    "\n",
    "#fit SVM model\n",
    "model = svm.SVC(kernel='linear', C=2**-5) #slack parameter\n",
    "model.fit(input_features, classes)\n",
    "\n",
    "# Get the separating hyperplane\n",
    "w = model.coef_[0]\n",
    "a = -w[0] / w[1]\n",
    "#fit to min/max values on x-axis\n",
    "xx = np.linspace(np.amin(input_features[:,0]), np.amax(input_features[:,0]))\n",
    "yy = a * xx - (model.intercept_[0]) / w[1]\n",
    "\n",
    "# Plot the parallels to the separating hyperplane that pass through the support vectors\n",
    "b = model.support_vectors_[0]\n",
    "yy_down = a * xx + (b[1] - a * b[0])\n",
    "b = model.support_vectors_[-1]\n",
    "yy_up = a * xx + (b[1] - a * b[0])\n",
    "\n",
    "# Look at the margins and support vectors\n",
    "sns.lmplot(x=f1, y=f2, data=nutr_facts, hue='greek_or_not',\n",
    "           palette='Set1', fit_reg=False, scatter_kws={\"s\": 70});plt.plot(xx, yy, linewidth=2, color='black')\n",
    "plt.plot(xx, yy_down, 'k--')\n",
    "plt.plot(xx, yy_up, 'k--')\n",
    "plt.scatter(model.support_vectors_[:, 0], model.support_vectors_[:, 1],\n",
    "            s=80, facecolors='none');"
   ]
  },
  {
   "cell_type": "code",
   "execution_count": 13,
   "metadata": {},
   "outputs": [
    {
     "data": {
      "text/plain": [
       "0.6"
      ]
     },
     "execution_count": 13,
     "metadata": {},
     "output_type": "execute_result"
    }
   ],
   "source": [
    "prev_pred = model.predict(input_features)\n",
    "accuracy_score(classes, prev_pred)"
   ]
  },
  {
   "cell_type": "markdown",
   "metadata": {},
   "source": [
    "Hmm. That made the line worse. Let's modify the kernel, since the data seems non-linearly separable. "
   ]
  },
  {
   "cell_type": "code",
   "execution_count": 14,
   "metadata": {},
   "outputs": [
    {
     "data": {
      "text/plain": [
       "SVC(C=1024, cache_size=200, class_weight=None, coef0=0.0,\n",
       "  decision_function_shape='ovr', degree=3, gamma='auto', kernel='rbf',\n",
       "  max_iter=-1, probability=False, random_state=None, shrinking=True,\n",
       "  tol=0.001, verbose=False)"
      ]
     },
     "execution_count": 14,
     "metadata": {},
     "output_type": "execute_result"
    }
   ],
   "source": [
    "#define input feats\n",
    "input_features = nutr_facts[[f1, f2]].values\n",
    "\n",
    "#fit SVM model\n",
    "model = svm.SVC(kernel='rbf', C=2**10, gamma='auto') \n",
    "model.fit(input_features, classes)"
   ]
  },
  {
   "cell_type": "code",
   "execution_count": 15,
   "metadata": {},
   "outputs": [
    {
     "data": {
      "text/plain": [
       "1.0"
      ]
     },
     "execution_count": 15,
     "metadata": {},
     "output_type": "execute_result"
    }
   ],
   "source": [
    "prediction = model.predict(input_features)\n",
    "\n",
    "#can't visualize this one\n",
    "accuracy_score(classes, prediction)"
   ]
  },
  {
   "cell_type": "markdown",
   "metadata": {},
   "source": [
    "Ideally, we'd divide our data into training and testing groups to check our accuracy. However, for illustration purposes, this shows how using a non-linear kernel is effective. "
   ]
  },
  {
   "cell_type": "markdown",
   "metadata": {},
   "source": [
    "## Many Features\n",
    "\n",
    "For fun, since we have the power of kernels, let's make an SVM that takes all of our data features as input..."
   ]
  },
  {
   "cell_type": "code",
   "execution_count": 16,
   "metadata": {},
   "outputs": [
    {
     "data": {
      "text/plain": [
       "SVC(C=1.0, cache_size=200, class_weight=None, coef0=0.0,\n",
       "  decision_function_shape='ovr', degree=3, gamma='auto', kernel='rbf',\n",
       "  max_iter=-1, probability=False, random_state=None, shrinking=True,\n",
       "  tol=0.001, verbose=False)"
      ]
     },
     "execution_count": 16,
     "metadata": {},
     "output_type": "execute_result"
    }
   ],
   "source": [
    "#define input feats\n",
    "input_features = np.delete(nutr_facts.to_numpy(), -1, 1)\n",
    "\n",
    "#fit SVM model\n",
    "big_model = svm.SVC(kernel='rbf', C=1.0, gamma='auto') \n",
    "big_model.fit(input_features, classes)"
   ]
  },
  {
   "cell_type": "code",
   "execution_count": 17,
   "metadata": {},
   "outputs": [
    {
     "data": {
      "text/plain": [
       "1.0"
      ]
     },
     "execution_count": 17,
     "metadata": {},
     "output_type": "execute_result"
    }
   ],
   "source": [
    "prediction = big_model.predict(input_features)\n",
    "\n",
    "#can't visualize this one\n",
    "accuracy_score(classes, prediction)"
   ]
  },
  {
   "cell_type": "markdown",
   "metadata": {},
   "source": [
    "...and compare it to our old, two-feature model with Siggi's Icelandic skyr (which is close to Greek yogurt)."
   ]
  },
  {
   "cell_type": "code",
   "execution_count": 18,
   "metadata": {},
   "outputs": [
    {
     "data": {
      "text/plain": [
       "(array([1]), array([1]))"
      ]
     },
     "execution_count": 18,
     "metadata": {},
     "output_type": "execute_result"
    }
   ],
   "source": [
    "siggis = np.array([150, 110, 0, 0, 10, 55, 12, 9, 15]).reshape(1, -1)\n",
    "sugar_carbs = np.array([9, 12]).reshape(1, -1)\n",
    "\n",
    "p1 = model.predict(sugar_carbs)\n",
    "p2 = big_model.predict(siggis)\n",
    "p1, p2"
   ]
  },
  {
   "cell_type": "markdown",
   "metadata": {},
   "source": [
    "Both result in the answer \"greek\", though in a different case the more complicated SVM might have caught something the basic one didn't."
   ]
  }
 ],
 "metadata": {
  "kernelspec": {
   "display_name": "Python 3",
   "language": "python",
   "name": "python3"
  },
  "language_info": {
   "codemirror_mode": {
    "name": "ipython",
    "version": 3
   },
   "file_extension": ".py",
   "mimetype": "text/x-python",
   "name": "python",
   "nbconvert_exporter": "python",
   "pygments_lexer": "ipython3",
   "version": "3.7.3"
  }
 },
 "nbformat": 4,
 "nbformat_minor": 2
}
